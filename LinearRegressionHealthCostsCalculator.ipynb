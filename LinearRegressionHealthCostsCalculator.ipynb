import pandas as pd
from sklearn.model_selection import train_test_split
from sklearn.preprocessing import LabelEncoder
from sklearn.metrics import mean_absolute_error
from sklearn.linear_model import LinearRegression
import matplotlib.pyplot as plt

# Load the dataset
data = pd.read_csv('insurance.csv')

# Convert categorical variables to numerical values
le = LabelEncoder()
data['sex'] = le.fit_transform(data['sex'])
data['smoker'] = le.fit_transform(data['smoker'])
data['region'] = le.fit_transform(data['region'])

# Split the dataset into training and testing sets
train_data, test_data = train_test_split(data, test_size=0.2, random_state=42)

# Separate the target variable (healthcare costs) from the features
train_labels = train_data.pop('expenses')
test_labels = test_data.pop('expenses')

# Create and train the regression model
model = LinearRegression()
model.fit(train_data, train_labels)

# Evaluate the model
predictions = model.predict(test_data)
mae = mean_absolute_error(test_labels, predictions)
print("Mean Absolute Error:", mae)

# Visualize the predictions
plt.figure(figsize=(10, 6))
plt.scatter(test_labels, predictions)
plt.xlabel('Actual Expenses')
plt.ylabel('Predicted Expenses')
plt.title('Actual vs Predicted Healthcare Costs')
plt.show()
